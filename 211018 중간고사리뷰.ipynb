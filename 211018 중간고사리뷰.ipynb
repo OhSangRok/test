{
  "nbformat": 4,
  "nbformat_minor": 0,
  "metadata": {
    "colab": {
      "name": "Untitled2.ipynb",
      "provenance": [],
      "authorship_tag": "ABX9TyOTIcr+3x0JKJAMrcRmVAdX",
      "include_colab_link": true
    },
    "kernelspec": {
      "name": "python3",
      "display_name": "Python 3"
    },
    "language_info": {
      "name": "python"
    }
  },
  "cells": [
    {
      "cell_type": "markdown",
      "metadata": {
        "id": "view-in-github",
        "colab_type": "text"
      },
      "source": [
        "<a href=\"https://colab.research.google.com/github/OhSangRok/test/blob/main/211018%20%EC%A4%91%EA%B0%84%EA%B3%A0%EC%82%AC%EB%A6%AC%EB%B7%B0.ipynb\" target=\"_parent\"><img src=\"https://colab.research.google.com/assets/colab-badge.svg\" alt=\"Open In Colab\"/></a>"
      ]
    },
    {
      "cell_type": "code",
      "metadata": {
        "id": "3vkZP3UQsrae"
      },
      "source": [
        "#1   파이썬 변수로 사용할 수 없는것은?\n",
        "_num = 1 \n",
        "num = 2\n",
        "num1 = 3\n",
        "#2num = 4\n",
        "# 앞에 숫자는 올  수 없습니다.\n",
        "n_um = 5"
      ],
      "execution_count": 5,
      "outputs": []
    },
    {
      "cell_type": "code",
      "metadata": {
        "colab": {
          "base_uri": "https://localhost:8080/"
        },
        "id": "mD6amMKuu_JR",
        "outputId": "e87685a1-2926-4ab3-d13a-5bbf652d6691"
      },
      "source": [
        "#2   각 변수의 저장된 최종 값은?\n",
        "sum=0\n",
        "n1 = 10\n",
        "n1 = n1+10\n",
        "n2 = 20\n",
        "sum = n1+n2\n",
        "print(n1, n2, sum)"
      ],
      "execution_count": 7,
      "outputs": [
        {
          "output_type": "stream",
          "name": "stdout",
          "text": [
            "20 20 40\n"
          ]
        }
      ]
    },
    {
      "cell_type": "code",
      "metadata": {
        "colab": {
          "base_uri": "https://localhost:8080/"
        },
        "id": "EXtg_kfKvPWZ",
        "outputId": "1be32564-ec47-4fde-9152-6d7fb7fed389"
      },
      "source": [
        "#3   적절한 연산자 찾기\n",
        "print(17//4)\n",
        "print(17/4)\n",
        "print(17%4)"
      ],
      "execution_count": 9,
      "outputs": [
        {
          "output_type": "stream",
          "name": "stdout",
          "text": [
            "4\n",
            "4.25\n",
            "1\n"
          ]
        }
      ]
    },
    {
      "cell_type": "code",
      "metadata": {
        "colab": {
          "base_uri": "https://localhost:8080/"
        },
        "id": "9UNPPfsv0geG",
        "outputId": "e9bac571-3d18-4f48-c8f8-1c0a281c2bed"
      },
      "source": [
        "#4   타입 찾기\n",
        "#age = 17\n",
        "age = 17.8\n",
        "print(type(type(age)))"
      ],
      "execution_count": 13,
      "outputs": [
        {
          "output_type": "stream",
          "name": "stdout",
          "text": [
            "<class 'type'>\n"
          ]
        }
      ]
    },
    {
      "cell_type": "code",
      "metadata": {
        "colab": {
          "base_uri": "https://localhost:8080/"
        },
        "id": "_XUSt_fH03u-",
        "outputId": "03d63f31-74ea-4606-a680-eeeff0d11f55"
      },
      "source": [
        "#5   문자열 인덱싱\n",
        "a = \"Hello hanyang!\"\n",
        "print(a[5], a[-5])"
      ],
      "execution_count": 12,
      "outputs": [
        {
          "output_type": "stream",
          "name": "stdout",
          "text": [
            "  y\n"
          ]
        }
      ]
    },
    {
      "cell_type": "code",
      "metadata": {
        "colab": {
          "base_uri": "https://localhost:8080/"
        },
        "id": "m4TK0jT51qdf",
        "outputId": "f5ea7c6b-9531-4f48-920d-06f3c77ea6e9"
      },
      "source": [
        "#6. upper()함수와 문자열 슬라이싱\n",
        "a = \"Hello Hanyang\"\n",
        "print(a)\n",
        "a= a.upper()\n",
        "print(a)\n",
        "print(a[:8])\n",
        "print(a[8:])\n",
        "print(a[1:10])"
      ],
      "execution_count": 17,
      "outputs": [
        {
          "output_type": "stream",
          "name": "stdout",
          "text": [
            "Hello Hanyang\n",
            "HELLO HANYANG\n",
            "HELLO HA\n",
            "NYANG\n",
            "ELLO HANY\n"
          ]
        }
      ]
    },
    {
      "cell_type": "code",
      "metadata": {
        "id": "LzEw6n-J2vmF"
      },
      "source": [
        "#7. 여러 데이터를 다루는 파이썬 자료형\n",
        "# 리스트, 튜플, 딕셔너리, 셋"
      ],
      "execution_count": 18,
      "outputs": []
    },
    {
      "cell_type": "code",
      "metadata": {
        "colab": {
          "base_uri": "https://localhost:8080/"
        },
        "id": "ASWRLqD53Lpe",
        "outputId": "be66654f-bdee-41a4-cf10-6a493d0c98b5"
      },
      "source": [
        "#8-9. 리스트\n",
        "a = ['a', 1, 'python', (1,2), '2', [1,2]]\n",
        "print(a[3])\n",
        "print(1 in a, 2 in a)"
      ],
      "execution_count": 20,
      "outputs": [
        {
          "output_type": "stream",
          "name": "stdout",
          "text": [
            "(1, 2)\n",
            "True False\n"
          ]
        }
      ]
    },
    {
      "cell_type": "code",
      "metadata": {
        "colab": {
          "base_uri": "https://localhost:8080/"
        },
        "id": "xOAG_0IC4V0v",
        "outputId": "443cc868-b01d-4fb4-c952-51a0af5f6a3a"
      },
      "source": [
        "#10. 파이썬 코드\n",
        "nums = list(range(4))\n",
        "print(nums)\n",
        "nums.insert(3,100)\n",
        "print(nums)"
      ],
      "execution_count": 23,
      "outputs": [
        {
          "output_type": "stream",
          "name": "stdout",
          "text": [
            "[0, 1, 2, 3]\n",
            "[0, 1, 2, 100, 3]\n"
          ]
        }
      ]
    },
    {
      "cell_type": "code",
      "metadata": {
        "colab": {
          "base_uri": "https://localhost:8080/"
        },
        "id": "BjjhfCGN5Bee",
        "outputId": "63cc1f98-583b-4f0e-f177-a3081d9851e0"
      },
      "source": [
        "#11. 변수의 최종값\n",
        "a = 100\n",
        "b = 200\n",
        "\n",
        "a, b = b, a\n",
        "\n",
        "print(a,b)"
      ],
      "execution_count": 25,
      "outputs": [
        {
          "output_type": "stream",
          "name": "stdout",
          "text": [
            "200 100\n"
          ]
        }
      ]
    },
    {
      "cell_type": "code",
      "metadata": {
        "colab": {
          "base_uri": "https://localhost:8080/"
        },
        "id": "0uzyI76A5mzf",
        "outputId": "7800433c-8fe1-4862-e4b3-67e196e4af52"
      },
      "source": [
        "#12. 딕셔너리\n",
        "a = {'han':1, 1:2, '1':3}\n",
        "a[1]= 'yang'\n",
        "print(a)"
      ],
      "execution_count": 27,
      "outputs": [
        {
          "output_type": "stream",
          "name": "stdout",
          "text": [
            "{'han': 1, 1: 'yang', '1': 3}\n"
          ]
        }
      ]
    },
    {
      "cell_type": "code",
      "metadata": {
        "colab": {
          "base_uri": "https://localhost:8080/"
        },
        "id": "0Cr15RrO6Mn1",
        "outputId": "54211e71-8f9f-4525-98fa-bd4ddf00a3e3"
      },
      "source": [
        "#13. 셋\n",
        "b = set('Hello')\n",
        "print(b)"
      ],
      "execution_count": 28,
      "outputs": [
        {
          "output_type": "stream",
          "name": "stdout",
          "text": [
            "{'H', 'e', 'l', 'o'}\n"
          ]
        }
      ]
    },
    {
      "cell_type": "code",
      "metadata": {
        "colab": {
          "base_uri": "https://localhost:8080/"
        },
        "id": "2nDUlsf3BdtG",
        "outputId": "971eeeab-f4af-44f7-87fc-65535f7ae828"
      },
      "source": [
        "#14-15. \n",
        "room = [[0,0,1,0,0], [1,0,1,0,1], [0,1,1,1,9]]\n",
        "\n",
        "mouse = room[0][2]\n",
        "\n",
        "if mouse ==1:\n",
        "  print(\"cheese\")\n",
        "elif mouse ==9:\n",
        "  print(\"trap\")\n",
        "else:\n",
        "  print(\"nothing\")"
      ],
      "execution_count": 32,
      "outputs": [
        {
          "output_type": "stream",
          "name": "stdout",
          "text": [
            "cheese\n"
          ]
        }
      ]
    },
    {
      "cell_type": "code",
      "metadata": {
        "colab": {
          "base_uri": "https://localhost:8080/"
        },
        "id": "FcWL6afuDZdT",
        "outputId": "6053f731-3f85-4624-a6ec-0bbc0e72b5f2"
      },
      "source": [
        "#16-17.\n",
        "a = 0\n",
        "b = 0\n",
        "\n",
        "for i in range(3,9):\n",
        "  if i%2==0 and i%3 == 0:\n",
        "    continue\n",
        "  elif i%2 == 0:\n",
        "    a += 1\n",
        "  elif i%3 ==0:\n",
        "    b += 1\n",
        "\n",
        "print(a, b)"
      ],
      "execution_count": 40,
      "outputs": [
        {
          "output_type": "stream",
          "name": "stdout",
          "text": [
            "2 1\n"
          ]
        }
      ]
    },
    {
      "cell_type": "code",
      "metadata": {
        "colab": {
          "base_uri": "https://localhost:8080/"
        },
        "id": "_SVBmIxPFIq0",
        "outputId": "825a7ac1-e62f-47dd-c1e8-7f69ec63152c"
      },
      "source": [
        "#18-20\n",
        "print(\"메뉴번호 1. 치킨(300원) 2. 짬뽕(500) 3. 치킨(700원)\")\n",
        "\n",
        "money = int(input(\"투입금액:  \"))\n",
        "menu = int(input(\"메뉴번호:  \"))\n",
        "\n",
        "if menu == 1:\n",
        "  money -= 300\n",
        "elif menu == 2:\n",
        "  money -= 500\n",
        "elif menu == 3:\n",
        "  money -= 700 \n",
        "\n",
        "if money <0:\n",
        "  print(\"금액이 부족합니다.\")\n",
        "else:\n",
        "  won1000 = money//1000\n",
        "  won500 = (money%1000)//500\n",
        "  won100 = ((money%1000)%500)//100\n",
        "  print(\"거스름돈: 1000원  {}개, 500원  {}개, 100원 {}개\".format(won1000, won500,won100))"
      ],
      "execution_count": 44,
      "outputs": [
        {
          "output_type": "stream",
          "name": "stdout",
          "text": [
            "메뉴번호 1. 치킨(300원) 2. 짬뽕(500) 3. 치킨(700원)\n",
            "투입금액:  10000\n",
            "메뉴번호:  3\n",
            "거스름돈: 1000원  9개, 500원  0개, 100원 3개\n"
          ]
        }
      ]
    }
  ]
}