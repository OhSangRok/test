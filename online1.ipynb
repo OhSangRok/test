{
  "nbformat": 4,
  "nbformat_minor": 0,
  "metadata": {
    "colab": {
      "name": "Untitled3.ipynb",
      "provenance": [],
      "authorship_tag": "ABX9TyMIJQxv2spDFUG9IphRcCS1",
      "include_colab_link": true
    },
    "kernelspec": {
      "name": "python3",
      "display_name": "Python 3"
    },
    "language_info": {
      "name": "python"
    }
  },
  "cells": [
    {
      "cell_type": "markdown",
      "metadata": {
        "id": "view-in-github",
        "colab_type": "text"
      },
      "source": [
        "<a href=\"https://colab.research.google.com/github/OhSangRok/test/blob/main/online1.ipynb\" target=\"_parent\"><img src=\"https://colab.research.google.com/assets/colab-badge.svg\" alt=\"Open In Colab\"/></a>"
      ]
    },
    {
      "cell_type": "markdown",
      "metadata": {
        "id": "xt2LxzwfvyQQ"
      },
      "source": [
        "### **학습목표**\n",
        "-  조건문 이해 및 활용\n"
      ]
    },
    {
      "cell_type": "markdown",
      "metadata": {
        "id": "dAwnjVKqeFJ1"
      },
      "source": [
        "### **조건문(if)**\n",
        "\n",
        "-  특정 조건을 만족하는 경우에 수행할 작업이 있는 경우 사용\n",
        "-  참,거짓 으로 표현된다.\n",
        "-  if,elif,else 키워드 사용\n",
        "-  조건문의 경우,틀여쓰기로 블로블록을 만들고,여러 종속된 코드로 사용해서 중첩 코드가 가능.\n",
        "-  `블럭(blook)`: 들여쓰기 된 코드\n",
        "-  모든 블럭의 시작과 마지막에는 :(콜론:colon)이 필요\n"
      ]
    },
    {
      "cell_type": "code",
      "metadata": {
        "colab": {
          "base_uri": "https://localhost:8080/"
        },
        "id": "Js1s8a-Ri-I5",
        "outputId": "39d54fb4-f6b3-43d7-9a62-d2414ad5c878"
      },
      "source": [
        "if 10>20: #거짓\n",
        "   print(\"참입니다\")\n",
        "print(\"거짓입니다\")"
      ],
      "execution_count": 1,
      "outputs": [
        {
          "output_type": "stream",
          "text": [
            "거짓입니다\n"
          ],
          "name": "stdout"
        }
      ]
    },
    {
      "cell_type": "markdown",
      "metadata": {
        "id": "0guPGENTjUl-"
      },
      "source": [
        "### **if, else**\n",
        "\n",
        "- if가 아닌 경우, 나머지 조건을 표현하고 싶을 때\n",
        "- 이 경우, if 조건이 참(true)\n",
        "  -  거짓(False)인 경우 else블록의 코드가 수행\n",
        "-  `주의!` if와 else사이에는 다른 코드가 삽입 불가"
      ]
    },
    {
      "cell_type": "code",
      "metadata": {
        "colab": {
          "base_uri": "https://localhost:8080/"
        },
        "id": "W9wzwtR3lmeU",
        "outputId": "7a5e65bc-640e-4083-9f82-3e4d7f82dbf1"
      },
      "source": [
        "#짝수인 경우 \"짝수!\"를 출력, 홀수인 경우 \"홀수!\"를 출력하는 프로그램을 작성하시오.\n",
        "\n",
        "a= 4\n",
        "\n",
        "if a % 2 == 0 : #나머지가 0인경우(참)\n",
        " print(\"짝수!\")\n",
        "else:\n",
        " print(\"홀수!\")"
      ],
      "execution_count": 3,
      "outputs": [
        {
          "output_type": "stream",
          "text": [
            "짝수!\n"
          ],
          "name": "stdout"
        }
      ]
    },
    {
      "cell_type": "markdown",
      "metadata": {
        "id": "uXLnk-ENsrT_"
      },
      "source": [
        "### **if, elif, else**\n",
        "\n",
        "-  조건이 여러개인 경우, elif으로 처리 가능\n",
        "-  elif의 조건을 확인 후,ture인 조건의 코드 블록을 실행"
      ]
    },
    {
      "cell_type": "code",
      "metadata": {
        "colab": {
          "base_uri": "https://localhost:8080/"
        },
        "id": "eUSM8NbGs_j9",
        "outputId": "8e53d449-aba6-4071-c6c1-afeb1e13a8d2"
      },
      "source": [
        "score = 100 #점수\n",
        "\n",
        "if score>=100 :\n",
        "  print(\" 치킨먹는 날 \")\n",
        "elif score>=90 :\n",
        "  print(\"성적 : A\")\n",
        "elif score>=80 :\n",
        "  print(\"성적 : B\")\n",
        "elif score>=70 :\n",
        "  print(\"성적 : C\")\n",
        "elif score>=60 :\n",
        "  print(\"성적 : D\")\n",
        "else : \n",
        "  print(\"성적 : F\")\n",
        "print(\"수고하셨습니다\")"
      ],
      "execution_count": 9,
      "outputs": [
        {
          "output_type": "stream",
          "text": [
            " 치킨먹는 날 \n",
            "수고하셨습니다\n"
          ],
          "name": "stdout"
        }
      ]
    }
  ]
}