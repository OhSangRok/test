{
  "nbformat": 4,
  "nbformat_minor": 0,
  "metadata": {
    "colab": {
      "name": "데이터타입(dict.set).ipynb",
      "provenance": [],
      "authorship_tag": "ABX9TyPeDjuRjwzKym4yscpYF3JH",
      "include_colab_link": true
    },
    "kernelspec": {
      "name": "python3",
      "display_name": "Python 3"
    },
    "language_info": {
      "name": "python"
    }
  },
  "cells": [
    {
      "cell_type": "markdown",
      "metadata": {
        "id": "view-in-github",
        "colab_type": "text"
      },
      "source": [
        "<a href=\"https://colab.research.google.com/github/OhSangRok/test/blob/main/%EB%8D%B0%EC%9D%B4%ED%84%B0%ED%83%80%EC%9E%85(dict_set).ipynb\" target=\"_parent\"><img src=\"https://colab.research.google.com/assets/colab-badge.svg\" alt=\"Open In Colab\"/></a>"
      ]
    },
    {
      "cell_type": "markdown",
      "metadata": {
        "id": "4ZtONBmXtpMT"
      },
      "source": [
        "### **학습목표**\n",
        "-  dictionary, set에 대해 이해하기"
      ]
    },
    {
      "cell_type": "markdown",
      "metadata": {
        "id": "TfwVEpxGtyeL"
      },
      "source": [
        "### **Dictionary**\n",
        "-  키와 값을 갖는 데이터 구조\n",
        "-  키는 내부적으로 hash값으로 저장\n",
        "-  순서를 따지지 않음."
      ]
    },
    {
      "cell_type": "code",
      "metadata": {
        "colab": {
          "base_uri": "https://localhost:8080/"
        },
        "id": "rx1JsMuNuQlq",
        "outputId": "088ea7ad-3a49-4a97-a0ec-52fa97c793b1"
      },
      "source": [
        "a = {'korea' : 'Seoul' ,\n",
        "     'Canana' : 'Ottawa',\n",
        "     'USA' : 'Washington D.C'}\n",
        "b = {0:1, 1:6, 7:9, 8:10}\n",
        "\n",
        "print(a)\n",
        "print(a['korea'])\n",
        "#print(a['japan])\n",
        "print(b[1])\n",
        "print(b[0])"
      ],
      "execution_count": null,
      "outputs": [
        {
          "output_type": "stream",
          "name": "stdout",
          "text": [
            "{'korea': 'Seoul', 'Canana': 'Ottawa', 'USA': 'Washington D.C'}\n",
            "Seoul\n",
            "6\n",
            "1\n"
          ]
        }
      ]
    },
    {
      "cell_type": "markdown",
      "metadata": {
        "id": "aivhGke0wHsD"
      },
      "source": [
        "### **항복 추가 및 변경**\n",
        "-  기존에 키가 존재하면, 새로운 값으로 업데이트\n",
        "-  기존에 키가 없다면, 새로운 키값으로 생성"
      ]
    },
    {
      "cell_type": "code",
      "metadata": {
        "colab": {
          "base_uri": "https://localhost:8080/"
        },
        "id": "_yqhWaOLwQlZ",
        "outputId": "8d57130d-f022-4268-ee44-b7520ad51fb0"
      },
      "source": [
        "a['Japan'] = 'Tokyo'\n",
        "print(a)\n",
        "a['Japan'] = 'Osaka'\n",
        "a['China'] = 'Bajing'\n",
        "print(a)"
      ],
      "execution_count": 9,
      "outputs": [
        {
          "output_type": "stream",
          "name": "stdout",
          "text": [
            "{'korea': 'Seoul', 'Canana': 'Ottawa', 'USA': 'Washington D.C', 'Japan': 'Tokyo', 'japan': 'Osaka', 'China': 'Bajing'}\n",
            "{'korea': 'Seoul', 'Canana': 'Ottawa', 'USA': 'Washington D.C', 'Japan': 'Osaka', 'japan': 'Osaka', 'China': 'Bajing'}\n"
          ]
        }
      ]
    },
    {
      "cell_type": "markdown",
      "metadata": {
        "id": "CKOPhxYwxAKb"
      },
      "source": [
        "## **update()**\n",
        "-  두 딕셔너리를 병합\n",
        "-  겹치는 키가 있다면, 전달되는 값이 업데이트 된다."
      ]
    },
    {
      "cell_type": "code",
      "metadata": {
        "colab": {
          "base_uri": "https://localhost:8080/"
        },
        "id": "1PLGeOv1xRXp",
        "outputId": "64f1f863-95b8-4826-adc2-2a193f9e58b8"
      },
      "source": [
        "a = {'a' : 'apple', 'b' : 'banana', 'c' : 'car'}\n",
        "b = {'b' : 'bus', 'c' : 'caramel', 'd' : 'dynamite', 'e' : 'education'}\n",
        "print(a)\n",
        "a.update(b) #a와 b병합\n",
        "print(a)"
      ],
      "execution_count": 12,
      "outputs": [
        {
          "output_type": "stream",
          "name": "stdout",
          "text": [
            "{'a': 'apple', 'b': 'banana', 'c': 'car'}\n",
            "{'a': 'apple', 'b': 'bus', 'c': 'caramel', 'd': 'dynamite', 'e': 'education'}\n"
          ]
        }
      ]
    },
    {
      "cell_type": "markdown",
      "metadata": {
        "id": "xFxQlK845VGC"
      },
      "source": [
        "### **key삭제**\n",
        "-  del 키워드\n",
        "-  pop 함수 이용"
      ]
    },
    {
      "cell_type": "code",
      "metadata": {
        "colab": {
          "base_uri": "https://localhost:8080/"
        },
        "id": "kLuRpApb5dPJ",
        "outputId": "873f3555-633a-492e-f8ff-17b1b8d37934"
      },
      "source": [
        "a = {'a':1, 'b':2, \"c\":3}\n",
        "print(a)\n",
        "\n",
        "del a['a']\n",
        "print(a)\n",
        "\n",
        "c = a.pop('b')\n",
        "print(c)"
      ],
      "execution_count": 14,
      "outputs": [
        {
          "output_type": "stream",
          "name": "stdout",
          "text": [
            "{'a': 1, 'b': 2, 'c': 3}\n",
            "{'b': 2, 'c': 3}\n",
            "2\n"
          ]
        }
      ]
    },
    {
      "cell_type": "markdown",
      "metadata": {
        "id": "bTaL1lFR9S4S"
      },
      "source": [
        "### **clear()**\n",
        "-  딕셔너리 값을 모두 초기화"
      ]
    },
    {
      "cell_type": "code",
      "metadata": {
        "colab": {
          "base_uri": "https://localhost:8080/"
        },
        "id": "bxwhmA6U9cHA",
        "outputId": "f23453dd-6158-403b-c3ab-8c5244806c14"
      },
      "source": [
        "a = {'a':1, 'b':2, \"c\":3}\n",
        "a['add']=4\n",
        "print(a)\n",
        "a.clear()\n",
        "print(a)"
      ],
      "execution_count": 16,
      "outputs": [
        {
          "output_type": "stream",
          "name": "stdout",
          "text": [
            "{'a': 1, 'b': 2, 'c': 3, 'add': 4}\n",
            "{}\n"
          ]
        }
      ]
    },
    {
      "cell_type": "markdown",
      "metadata": {
        "id": "mRXZyX999rBI"
      },
      "source": [
        "### **in**\n",
        "-  key값이 존재를 확인"
      ]
    },
    {
      "cell_type": "code",
      "metadata": {
        "colab": {
          "base_uri": "https://localhost:8080/"
        },
        "id": "A1CL1u8b90iR",
        "outputId": "61059079-4a7d-41d6-8fb6-26accd1e3ef8"
      },
      "source": [
        "a = {'a':1, 'b':2, \"c\":3}\n",
        "print(2 in a)\n",
        "print('a' in a)"
      ],
      "execution_count": 20,
      "outputs": [
        {
          "output_type": "stream",
          "name": "stdout",
          "text": [
            "False\n",
            "True\n"
          ]
        }
      ]
    },
    {
      "cell_type": "markdown",
      "metadata": {
        "id": "NUDTYYU4-TNB"
      },
      "source": [
        "- dict[key]로 접근, 키가 존재하지 않을 경우 에러\n",
        "- .get()함수로 접근해서 키가 없는 경우에도 프로그램을 실행"
      ]
    },
    {
      "cell_type": "code",
      "metadata": {
        "colab": {
          "base_uri": "https://localhost:8080/"
        },
        "id": "9A84Y5ic-g50",
        "outputId": "7fdfbfec-d7a3-480a-d72b-93c1118707fe"
      },
      "source": [
        "a = {'a':1, 'b':2, \"c\":3}\n",
        "print(a['a'])\n",
        "print(a.get('d'))"
      ],
      "execution_count": 22,
      "outputs": [
        {
          "output_type": "stream",
          "name": "stdout",
          "text": [
            "1\n",
            "None\n"
          ]
        }
      ]
    },
    {
      "cell_type": "markdown",
      "metadata": {
        "id": "xjcKsCbd_GsJ"
      },
      "source": [
        "### **모든 key와 값에 접근**\n",
        "-  keys(): 키만 반환\n",
        "-  values(): 값만 반환\n",
        "-  items(): 키와 값의 튜플을 반환"
      ]
    },
    {
      "cell_type": "code",
      "metadata": {
        "colab": {
          "base_uri": "https://localhost:8080/"
        },
        "id": "QeLtK2BE_mFY",
        "outputId": "a858aaae-d11f-4813-88f4-27a58d265d47"
      },
      "source": [
        "a = {'a':1, 'b':2, \"c\":3}\n",
        "print(a)\n",
        "print(list(a.keys()))\n",
        "print(list(a.values()))\n",
        "print(list(a.items()))"
      ],
      "execution_count": 28,
      "outputs": [
        {
          "output_type": "stream",
          "name": "stdout",
          "text": [
            "{'a': 1, 'b': 2, 'c': 3}\n",
            "['a', 'b', 'c']\n",
            "[1, 2, 3]\n",
            "[('a', 1), ('b', 2), ('c', 3)]\n"
          ]
        }
      ]
    },
    {
      "cell_type": "markdown",
      "metadata": {
        "id": "oL1dS5w2GHeQ"
      },
      "source": [
        "### **Set**\n",
        "-  dictionany에서 key만 활용한 데이터구조\n",
        "-  중복이 허용되지 않는 구조"
      ]
    },
    {
      "cell_type": "code",
      "metadata": {
        "colab": {
          "base_uri": "https://localhost:8080/"
        },
        "id": "KYC5Ir3KGXif",
        "outputId": "f088df4c-d13c-4883-bd10-0d9f890fec86"
      },
      "source": [
        "a = {5,2,3,2,6,4,1,2,3,3}\n",
        "print(a)"
      ],
      "execution_count": 30,
      "outputs": [
        {
          "output_type": "stream",
          "name": "stdout",
          "text": [
            "{1, 2, 3, 4, 5, 6}\n"
          ]
        }
      ]
    },
    {
      "cell_type": "code",
      "metadata": {
        "colab": {
          "base_uri": "https://localhost:8080/"
        },
        "id": "LSz7OC0qGp_Y",
        "outputId": "d3b4a488-9aad-4aff-fc08-11cc7348bb52"
      },
      "source": [
        "#리스트를 Set으로 변경\n",
        "a = [5,2,3,2,6,4,1,2,3,3]\n",
        "print(a)\n",
        "\n",
        "b = set(a)\n",
        "print(b)"
      ],
      "execution_count": 33,
      "outputs": [
        {
          "output_type": "stream",
          "name": "stdout",
          "text": [
            "[5, 2, 3, 2, 6, 4, 1, 2, 3, 3]\n",
            "{1, 2, 3, 4, 5, 6}\n"
          ]
        }
      ]
    },
    {
      "cell_type": "code",
      "metadata": {
        "colab": {
          "base_uri": "https://localhost:8080/"
        },
        "id": "sYqE4-NQHdeP",
        "outputId": "e7540a73-9a00-435f-8d46-b474468dc76a"
      },
      "source": [
        "a = {1,2,3}\n",
        "b = {2,3,4}\n",
        "\n",
        "c = a.union(b) # 합집함\n",
        "print(c)\n",
        "d = a.intersection(b) #교집합\n",
        "print(d)\n",
        "e = a.difference(b) #A-B 차집합\n",
        "print(e)"
      ],
      "execution_count": 37,
      "outputs": [
        {
          "output_type": "stream",
          "name": "stdout",
          "text": [
            "{1, 2, 3, 4}\n",
            "{2, 3}\n",
            "{1}\n"
          ]
        }
      ]
    }
  ]
}