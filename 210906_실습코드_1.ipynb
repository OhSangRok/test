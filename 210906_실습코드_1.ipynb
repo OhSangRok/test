{
  "nbformat": 4,
  "nbformat_minor": 0,
  "metadata": {
    "colab": {
      "name": "210906 실습코드 1.ipynb",
      "provenance": [],
      "authorship_tag": "ABX9TyPPW70sY7smwZ3fp5lOwbC6",
      "include_colab_link": true
    },
    "kernelspec": {
      "name": "python3",
      "display_name": "Python 3"
    },
    "language_info": {
      "name": "python"
    }
  },
  "cells": [
    {
      "cell_type": "markdown",
      "metadata": {
        "id": "view-in-github",
        "colab_type": "text"
      },
      "source": [
        "<a href=\"https://colab.research.google.com/github/OhSangRok/test/blob/main/210906_%EC%8B%A4%EC%8A%B5%EC%BD%94%EB%93%9C_1.ipynb\" target=\"_parent\"><img src=\"https://colab.research.google.com/assets/colab-badge.svg\" alt=\"Open In Colab\"/></a>"
      ]
    },
    {
      "cell_type": "code",
      "metadata": {
        "colab": {
          "base_uri": "https://localhost:8080/"
        },
        "id": "skm4QSNebWdT",
        "outputId": "f5fdc563-def2-4859-e52d-44ae29172b5f"
      },
      "source": [
        "# 1. Hello World!를 출력하시오.\n",
        "print(\"Hello World!\")"
      ],
      "execution_count": 1,
      "outputs": [
        {
          "output_type": "stream",
          "name": "stdout",
          "text": [
            "Hello World!\n"
          ]
        }
      ]
    },
    {
      "cell_type": "code",
      "metadata": {
        "colab": {
          "base_uri": "https://localhost:8080/"
        },
        "id": "uPKxU_8Db3pP",
        "outputId": "ee80e3a2-f5ef-4ceb-982c-9e2dc24267d1"
      },
      "source": [
        "# 2. 두 정수 A와 B를 입력받은 다음.\n",
        "# A+B를 출력하는 프로그램을 작성하시오.\n",
        "a,b = input(). split()\n",
        "a = int(a)\n",
        "b = int(b)\n",
        "print(a+b)"
      ],
      "execution_count": 7,
      "outputs": [
        {
          "output_type": "stream",
          "name": "stdout",
          "text": [
            "1 2\n",
            "3\n"
          ]
        }
      ]
    },
    {
      "cell_type": "code",
      "metadata": {
        "colab": {
          "base_uri": "https://localhost:8080/"
        },
        "id": "EDktldGfdeFu",
        "outputId": "793c1c14-0cbc-47a6-8152-fb9393195caf"
      },
      "source": [
        "# 3. 두 자연수 A와 B가 주어진다. \n",
        "# 이때, A+B, A-B, A*B, A/B(몫), A%B(나머지)를 출력하는 프로그램을 작성하시오. \n",
        "a, b= input(). split()\n",
        "a= int(a)\n",
        "b= int(b)\n",
        "print(a+b)\n",
        "print(a-b)\n",
        "print(a*b)\n",
        "print(a//b)\n",
        "print(a%b)"
      ],
      "execution_count": 12,
      "outputs": [
        {
          "output_type": "stream",
          "name": "stdout",
          "text": [
            "7 3\n",
            "10\n",
            "4\n",
            "21\n",
            "2\n",
            "1\n"
          ]
        }
      ]
    },
    {
      "cell_type": "code",
      "metadata": {
        "colab": {
          "base_uri": "https://localhost:8080/"
        },
        "id": "qjTUPVsCkEWc",
        "outputId": "8dec20a7-d679-4e00-c6fa-2838ad05a8f7"
      },
      "source": [
        "# 4. 시험 점수를 입력받아 90 ~ 100점은 A, 80 ~ 89점은 B, 70 ~ 79점은 C, \n",
        "# 60 ~ 69점은 D, 나머지 점수는 F를 출력하는 프로그램을 작성하시오.\n",
        "score = int(input())\n",
        "\n",
        "if score>=90:\n",
        "  print(\"A\")\n",
        "elif 90>score>=80:\n",
        "  print(\"B\")\n",
        "elif 80>score>=70:\n",
        "  print(\"C\")\n",
        "elif 70>score>=60:\n",
        "  print(\"D\")\n",
        "else:\n",
        "  print(\"F\")\n"
      ],
      "execution_count": 24,
      "outputs": [
        {
          "output_type": "stream",
          "name": "stdout",
          "text": [
            "100\n",
            "A\n"
          ]
        }
      ]
    },
    {
      "cell_type": "code",
      "metadata": {
        "colab": {
          "base_uri": "https://localhost:8080/"
        },
        "id": "SATMyKL7plPi",
        "outputId": "3367c92f-1a53-4e8d-d455-73883d6c3c77"
      },
      "source": [
        "# 5. 두 정수 A와 B가 주어졌을 때, A와 B를 비교하는 프로그램을 작성하시오.\n",
        "a, b = input(). split()\n",
        "a= int(a)\n",
        "b= int(b)\n",
        "if a>b:\n",
        "  print(\">\")\n",
        "elif a==b:\n",
        "  print(\"==\")\n",
        "else:\n",
        "  print(\"<\")"
      ],
      "execution_count": 26,
      "outputs": [
        {
          "output_type": "stream",
          "name": "stdout",
          "text": [
            "1 2\n",
            "<\n"
          ]
        }
      ]
    }
  ]
}