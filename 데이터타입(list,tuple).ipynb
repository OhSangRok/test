{
  "nbformat": 4,
  "nbformat_minor": 0,
  "metadata": {
    "colab": {
      "name": "데이터타입(list, tuple).ipynb",
      "provenance": [],
      "authorship_tag": "ABX9TyNbdEj+SBrxeBltkaeMjldc",
      "include_colab_link": true
    },
    "kernelspec": {
      "name": "python3",
      "display_name": "Python 3"
    },
    "language_info": {
      "name": "python"
    }
  },
  "cells": [
    {
      "cell_type": "markdown",
      "metadata": {
        "id": "view-in-github",
        "colab_type": "text"
      },
      "source": [
        "<a href=\"https://colab.research.google.com/github/OhSangRok/test/blob/main/%EB%8D%B0%EC%9D%B4%ED%84%B0%ED%83%80%EC%9E%85(list%2Ctuple).ipynb\" target=\"_parent\"><img src=\"https://colab.research.google.com/assets/colab-badge.svg\" alt=\"Open In Colab\"/></a>"
      ]
    },
    {
      "cell_type": "markdown",
      "metadata": {
        "id": "wbM8lZxcYB0E"
      },
      "source": [
        "### **학습목표**\n",
        "-  리스트(list)에 대해 이해하기\n",
        "-  튜플(tuple)에 대해 이해하기"
      ]
    },
    {
      "cell_type": "markdown",
      "metadata": {
        "id": "3GdFGqs6bLHk"
      },
      "source": [
        "### **리스트(list)와 튜플**\n",
        "-  여러 개의 값을 담을 수 있는 데이터 구조\n",
        "-  list: 생성된 후에 변경이 가능\n",
        "-  tuple: 생성된 후에 변경이 불가능"
      ]
    },
    {
      "cell_type": "code",
      "metadata": {
        "colab": {
          "base_uri": "https://localhost:8080/"
        },
        "id": "8ebFcqTabjts",
        "outputId": "70b22faa-fad7-449d-bb61-19d00215c380"
      },
      "source": [
        "#[]: 리스트, (): 튜플, (): 딕셔너리\n",
        "a= [1,2,3,4,5]\n",
        "print(a)"
      ],
      "execution_count": 3,
      "outputs": [
        {
          "output_type": "stream",
          "name": "stdout",
          "text": [
            "[1, 2, 3, 4, 5]\n"
          ]
        }
      ]
    },
    {
      "cell_type": "code",
      "metadata": {
        "colab": {
          "base_uri": "https://localhost:8080/"
        },
        "id": "HOpmjaW-c7la",
        "outputId": "6ff0df6b-bc84-4e3a-9882-3e7de65dd451"
      },
      "source": [
        "a= [\"컴넷\", \"B\", 1, \"학년\", [10,20]]\n",
        "print(a)"
      ],
      "execution_count": 5,
      "outputs": [
        {
          "output_type": "stream",
          "name": "stdout",
          "text": [
            "['컴넷', 'B', 1, '학년', [10, 20]]\n"
          ]
        }
      ]
    },
    {
      "cell_type": "code",
      "metadata": {
        "colab": {
          "base_uri": "https://localhost:8080/"
        },
        "id": "u4QinDFMdkmD",
        "outputId": "0a8082cd-55cf-44bc-cb17-4e7d8c93ca10"
      },
      "source": [
        "a= \"hello comnet B!\"\n",
        "b = list(a) #list()함수를 리스트를 생성\n",
        "#리스트 함수는 다른타입(문자열 등)을 리스트로 변환할 때 사용\n",
        "\n",
        "print(b)\n",
        "print(len(b))\n",
        "\n",
        "c = a.split() #공백을 기준으로 리스트를 생성\n",
        "d = a.split(\"l\") #()만의 구분자를 기준으로 리스트를 생성\n",
        "print(c)\n",
        "print(d)"
      ],
      "execution_count": 13,
      "outputs": [
        {
          "output_type": "stream",
          "name": "stdout",
          "text": [
            "['h', 'e', 'l', 'l', 'o', ' ', 'c', 'o', 'm', 'n', 'e', 't', ' ', 'B', '!']\n",
            "15\n",
            "['he', '', 'o comnet B!']\n"
          ]
        }
      ]
    },
    {
      "cell_type": "markdown",
      "metadata": {
        "id": "Wd1DtwpKk7v9"
      },
      "source": [
        "### **리스트 인덱스(indexing)**\n",
        "-  [] 연산자를 이용해서 항목을 가져온다.\n",
        "-  [ i ] i번째 원소를 반환한다.\n",
        "-  만약, i가 음수면 마지막 원소에서 -1로 하여 가져온다."
      ]
    },
    {
      "cell_type": "code",
      "metadata": {
        "colab": {
          "base_uri": "https://localhost:8080/"
        },
        "id": "UWrjJG4slgTK",
        "outputId": "f80ea45a-e260-4dd3-bb8d-c697fd3837b3"
      },
      "source": [
        "a= [1,2,3,4,5,6,7,8,9,10]\n",
        "print(a[0], a[3], a[7], a[9])\n",
        "print(a[-1], a[-3], a[-10])\n",
        "# print(a[10], a[-11])"
      ],
      "execution_count": 20,
      "outputs": [
        {
          "output_type": "stream",
          "name": "stdout",
          "text": [
            "1 4 8 10\n",
            "10 8 1\n"
          ]
        }
      ]
    },
    {
      "cell_type": "code",
      "metadata": {
        "colab": {
          "base_uri": "https://localhost:8080/"
        },
        "id": "zvEQIO-wmtl7",
        "outputId": "ad0faec3-4f1f-434c-9103-6ab3cb7f05a1"
      },
      "source": [
        "#리스트의 인덱스를 이용해 업데이트\n",
        "a= [1,2,3,4,5,6,7,8,9,10]\n",
        "a[0] = 100\n",
        "a[-1] = 0\n",
        "print(a)\n",
        "\n",
        "#문자열을 인덱스를 사용해 업데이트\n",
        "a = \"hello comnet B!\"\n",
        "b = a.replace(\"l\", \"w\")\n",
        "print(b)\n",
        "c = \"j\" +a[1:]\n",
        "print(c)"
      ],
      "execution_count": 26,
      "outputs": [
        {
          "output_type": "stream",
          "name": "stdout",
          "text": [
            "[100, 2, 3, 4, 5, 6, 7, 8, 9, 0]\n",
            "hewwo comnet B!\n",
            "jello comnet B!\n"
          ]
        }
      ]
    },
    {
      "cell_type": "markdown",
      "metadata": {
        "id": "9soWDyRGoK97"
      },
      "source": [
        "### **리스트 slicing**\n",
        "-  리스트를 슬라이싱한 경과도 역시 리스트\n",
        "-  슬라이싱(시작:끝:증가값)"
      ]
    },
    {
      "cell_type": "code",
      "metadata": {
        "colab": {
          "base_uri": "https://localhost:8080/"
        },
        "id": "npzRWpQ5oodk",
        "outputId": "dfcb8c47-17a2-4995-a4de-319b0c43add1"
      },
      "source": [
        "a= [1,2,3,4,5,6,7,8,9,10]\n",
        "print(a[3:7])\n",
        "print(a[:7])\n",
        "print(a[3:])\n",
        "print(a[:])\n",
        "print(a[::2])\n",
        "print(a[1:9:2])"
      ],
      "execution_count": 34,
      "outputs": [
        {
          "output_type": "stream",
          "name": "stdout",
          "text": [
            "[4, 5, 6, 7]\n",
            "[1, 2, 3, 4, 5, 6, 7]\n",
            "[4, 5, 6, 7, 8, 9, 10]\n",
            "[1, 2, 3, 4, 5, 6, 7, 8, 9, 10]\n",
            "[1, 3, 5, 7, 9]\n",
            "[2, 4, 6, 8]\n"
          ]
        }
      ]
    },
    {
      "cell_type": "markdown",
      "metadata": {
        "id": "BG_uXN-Gq486"
      },
      "source": [
        "### **리스트 멤버 함수**\n",
        "-  생성된 리스트에 동작하는 함수\n",
        "-  append() : 리스트 끝에다가 항목을 추가\n",
        "-  extend() : 리스트를 연장 (+=)\n",
        "-  insert(): 원하는 위치에 추가 가능(위치, 아이템)"
      ]
    },
    {
      "cell_type": "code",
      "metadata": {
        "colab": {
          "base_uri": "https://localhost:8080/"
        },
        "id": "xg4cxEf4rOtT",
        "outputId": "b60593f0-6a04-4cd7-b40a-50c99b2c4787"
      },
      "source": [
        "a= [1,2,3,4,5]\n",
        "a.append(10)\n",
        "print(a)"
      ],
      "execution_count": 36,
      "outputs": [
        {
          "output_type": "stream",
          "name": "stdout",
          "text": [
            "[1, 2, 3, 4, 5, 10]\n"
          ]
        }
      ]
    },
    {
      "cell_type": "code",
      "metadata": {
        "colab": {
          "base_uri": "https://localhost:8080/"
        },
        "id": "uxPORDC1rsKh",
        "outputId": "5a59811d-1f78-4418-f331-e36f5856a0df"
      },
      "source": [
        "b = [11,12,13]\n",
        "#a.extend(b)\n",
        "a += b #extend 함수\n",
        "print(a)"
      ],
      "execution_count": 42,
      "outputs": [
        {
          "output_type": "stream",
          "name": "stdout",
          "text": [
            "[1, 2, 3, 4, 5, 10, 11, 12, 13, 11, 12, 13, 11, 12, 13, 11, 12, 13]\n"
          ]
        }
      ]
    },
    {
      "cell_type": "code",
      "metadata": {
        "colab": {
          "base_uri": "https://localhost:8080/"
        },
        "id": "o-xbWO39sjBr",
        "outputId": "3214413b-5c1c-451c-f1da-1cf19109e362"
      },
      "source": [
        "a= [1,2,3,4,5]\n",
        "a.insert(0,7)\n",
        "a.insert(1,6)\n",
        "print(a)"
      ],
      "execution_count": 44,
      "outputs": [
        {
          "output_type": "stream",
          "name": "stdout",
          "text": [
            "[7, 6, 1, 2, 3, 4, 5]\n"
          ]
        }
      ]
    },
    {
      "cell_type": "markdown",
      "metadata": {
        "id": "TqstQV8pyixp"
      },
      "source": [
        "-  remove() : 값으로 항목을 삭제\n",
        "-  pop(): 지우고자 하는 인덱스의 아이템을 반환 후 삭제\n",
        "-  index(): 찾고자하는 인덱스 값을 반환"
      ]
    },
    {
      "cell_type": "code",
      "metadata": {
        "colab": {
          "base_uri": "https://localhost:8080/"
        },
        "id": "PBr3RsWMy1wZ",
        "outputId": "e87348cf-8bde-4066-f6ee-8a958c0c2dac"
      },
      "source": [
        "a= [10,20,30,40,50]\n",
        "a.remove(10)\n",
        "print(a)"
      ],
      "execution_count": 46,
      "outputs": [
        {
          "output_type": "stream",
          "name": "stdout",
          "text": [
            "[20, 30, 40, 50]\n"
          ]
        }
      ]
    },
    {
      "cell_type": "code",
      "metadata": {
        "colab": {
          "base_uri": "https://localhost:8080/"
        },
        "id": "zlJte5JqzI-R",
        "outputId": "a7c20a2c-dc3b-4b09-e0da-25014eeb050b"
      },
      "source": [
        "a= [10,20,30,40,50]\n",
        "b= a.pop(0)\n",
        "print(b)\n",
        "print(a)"
      ],
      "execution_count": 48,
      "outputs": [
        {
          "output_type": "stream",
          "name": "stdout",
          "text": [
            "10\n",
            "[20, 30, 40, 50]\n"
          ]
        }
      ]
    },
    {
      "cell_type": "code",
      "metadata": {
        "colab": {
          "base_uri": "https://localhost:8080/"
        },
        "id": "eu5IZXRezxBx",
        "outputId": "1affa1f9-6344-4718-feed-e87518805236"
      },
      "source": [
        "a= [10,20,30,40,50]\n",
        "print(a.index(40))\n",
        "\n",
        "p= \"hello\"\n",
        "print(p.index(\"e\"))"
      ],
      "execution_count": 55,
      "outputs": [
        {
          "output_type": "stream",
          "name": "stdout",
          "text": [
            "3\n",
            "1\n"
          ]
        }
      ]
    },
    {
      "cell_type": "markdown",
      "metadata": {
        "id": "jDuu1ZSJ0VUT"
      },
      "source": [
        "### **in 키워드**\n",
        "-  리스트에 해당 값이 존재하는지 \n",
        "-  True, False 중 한가지로 반환\n",
        "- 값 in [list]\n",
        "\n"
      ]
    },
    {
      "cell_type": "code",
      "metadata": {
        "colab": {
          "base_uri": "https://localhost:8080/"
        },
        "id": "DEdeu5cj0zO6",
        "outputId": "d2cb1a5e-474f-42eb-9e0f-6fe90a57ab8d"
      },
      "source": [
        "a= [1,2,3,4,5,6,7,8]\n",
        "b = 5\n",
        "c = 10\n",
        "print(b in a)\n",
        "print(c in a)"
      ],
      "execution_count": 56,
      "outputs": [
        {
          "output_type": "stream",
          "name": "stdout",
          "text": [
            "True\n",
            "False\n"
          ]
        }
      ]
    },
    {
      "cell_type": "markdown",
      "metadata": {
        "id": "1HoLSwd417Zw"
      },
      "source": [
        "### **list 정렬**\n",
        "-  sort(): 리스트 자체를 내부적으로 정렬"
      ]
    },
    {
      "cell_type": "code",
      "metadata": {
        "colab": {
          "base_uri": "https://localhost:8080/"
        },
        "id": "ppwVXWlZ2COH",
        "outputId": "8d69d82b-69e6-4016-f30a-ccdbf4a283a4"
      },
      "source": [
        "a = [9, 34, 45, 232, 12, 1, 2, 8, 5, 2, 1, 3, 4]\n",
        "b= sorted(a)\n",
        "print(b)\n",
        "print(a)\n",
        "\n",
        "#a.sort()\n",
        "#print(a)\n",
        "#a.sort(reverse=True)\n",
        "#print(a)\n"
      ],
      "execution_count": 59,
      "outputs": [
        {
          "output_type": "stream",
          "name": "stdout",
          "text": [
            "[1, 1, 2, 2, 3, 4, 5, 8, 9, 12, 34, 45, 232]\n",
            "[9, 34, 45, 232, 12, 1, 2, 8, 5, 2, 1, 3, 4]\n"
          ]
        }
      ]
    },
    {
      "cell_type": "markdown",
      "metadata": {
        "id": "lV8856qJ3H0I"
      },
      "source": [
        "### **튜플(tuply)**\n",
        "-  리스트와 같이 여러개의 값을 갖는 데이터 컬렉션 타입\n",
        "-  생성된 후에 변경이 불가능"
      ]
    },
    {
      "cell_type": "code",
      "metadata": {
        "colab": {
          "base_uri": "https://localhost:8080/"
        },
        "id": "z29mhKPg3UGa",
        "outputId": "610097fe-af56-44da-c745-9c33730eb9af"
      },
      "source": [
        "a = [1,2,3]\n",
        "b = (1,2,3)\n",
        "print(type(a))\n",
        "print(type(b))\n",
        "\n",
        "a[0] = 100\n",
        "print(a)\n",
        "#b[0] = 100"
      ],
      "execution_count": 64,
      "outputs": [
        {
          "output_type": "stream",
          "name": "stdout",
          "text": [
            "<class 'list'>\n",
            "<class 'tuple'>\n",
            "[100, 2, 3]\n"
          ]
        }
      ]
    },
    {
      "cell_type": "code",
      "metadata": {
        "colab": {
          "base_uri": "https://localhost:8080/"
        },
        "id": "OjAkVzNW36M4",
        "outputId": "d55bc24e-16d8-4184-8d7a-019419350a19"
      },
      "source": [
        "a,b,c,d = 10,20,30,40\n",
        "print(a,b,c,d)"
      ],
      "execution_count": 65,
      "outputs": [
        {
          "output_type": "stream",
          "name": "stdout",
          "text": [
            "10 20 30 40\n"
          ]
        }
      ]
    },
    {
      "cell_type": "code",
      "metadata": {
        "colab": {
          "base_uri": "https://localhost:8080/"
        },
        "id": "oDexjTV54JdY",
        "outputId": "43cc539f-c108-4ef6-8bc5-7c84df75c2c6"
      },
      "source": [
        "a = 5\n",
        "b = 4\n",
        "\n",
        "#문제: a,b 값을 교환하시오!\n",
        "\n",
        "temp = a\n",
        "a = b\n",
        "b = temp\n",
        "print(a)\n",
        "print(b)\n",
        "a,b = b,a\n",
        "print(a)\n",
        "print(b)"
      ],
      "execution_count": 73,
      "outputs": [
        {
          "output_type": "stream",
          "name": "stdout",
          "text": [
            "4\n",
            "5\n",
            "5\n",
            "4\n"
          ]
        }
      ]
    }
  ]
}