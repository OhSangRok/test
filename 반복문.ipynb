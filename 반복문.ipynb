{
  "nbformat": 4,
  "nbformat_minor": 0,
  "metadata": {
    "colab": {
      "name": "Untitled1.ipynb",
      "provenance": [],
      "authorship_tag": "ABX9TyPQFWrT12dXL1+TYSPosVzc",
      "include_colab_link": true
    },
    "kernelspec": {
      "name": "python3",
      "display_name": "Python 3"
    },
    "language_info": {
      "name": "python"
    }
  },
  "cells": [
    {
      "cell_type": "markdown",
      "metadata": {
        "id": "view-in-github",
        "colab_type": "text"
      },
      "source": [
        "<a href=\"https://colab.research.google.com/github/OhSangRok/test/blob/main/%EB%B0%98%EB%B3%B5%EB%AC%B8.ipynb\" target=\"_parent\"><img src=\"https://colab.research.google.com/assets/colab-badge.svg\" alt=\"Open In Colab\"/></a>"
      ]
    },
    {
      "cell_type": "markdown",
      "metadata": {
        "id": "cJHQFHaa3vy9"
      },
      "source": [
        "### **학습목표**\n",
        "\n",
        "-  반복문의 이해 및 활용(for)\n",
        "-  range 함수 이해"
      ]
    },
    {
      "cell_type": "markdown",
      "metadata": {
        "id": "CwY9-lgD4S6E"
      },
      "source": [
        "### **for 반복문**\n",
        "\n",
        "-  리스트, 문자열 등 순회 가능한 것들을 값을 처리할 때 사용\n",
        "-  i는 매번 수행될 때마다 a 안의 값으로 순차적으로 변경이 된다.\n",
        "-  모든 a 안의 값이 수행되면 for문 블록이 종료"
      ]
    },
    {
      "cell_type": "code",
      "metadata": {
        "colab": {
          "base_uri": "https://localhost:8080/"
        },
        "id": "PKO7t5bX4op4",
        "outputId": "a3137635-94e1-4378-dc2b-5e51ffac86f7"
      },
      "source": [
        "a = [1, 2, 3, 4, 5]\n",
        "\n",
        "for i in a:\n",
        "  print(i, i*2)\n",
        "print('Wni 최종값 :', i)"
      ],
      "execution_count": 2,
      "outputs": [
        {
          "output_type": "stream",
          "name": "stdout",
          "text": [
            "1 2\n",
            "2 4\n",
            "3 6\n",
            "4 8\n",
            "5 10\n",
            "Wni 최종값 : 5\n"
          ]
        }
      ]
    },
    {
      "cell_type": "code",
      "metadata": {
        "colab": {
          "base_uri": "https://localhost:8080/"
        },
        "id": "DBsKgriG_ruf",
        "outputId": "f36c2d03-9ee3-474a-909f-d730e908ca41"
      },
      "source": [
        "#문자열의 아이템 출력하기\n",
        "\n",
        "for x in 'hello world' :\n",
        "  print(x)"
      ],
      "execution_count": 7,
      "outputs": [
        {
          "output_type": "stream",
          "name": "stdout",
          "text": [
            "h\n",
            "e\n",
            "l\n",
            "l\n",
            "o\n",
            " \n",
            "w\n",
            "o\n",
            "r\n",
            "l\n",
            "d\n"
          ]
        }
      ]
    },
    {
      "cell_type": "code",
      "metadata": {
        "colab": {
          "base_uri": "https://localhost:8080/"
        },
        "id": "fSzjkfRa_xT9",
        "outputId": "1032443d-634f-4e77-bcd3-0ff12f4ce1c3"
      },
      "source": [
        "a = [1, 10, 7, 29, 18]\n",
        "\n",
        "for i in a :\n",
        "  if i % 2 == 0 : #짝수\n",
        "    print(i//2)\n",
        "  else :\n",
        "    print(i+2)\n"
      ],
      "execution_count": 10,
      "outputs": [
        {
          "output_type": "stream",
          "name": "stdout",
          "text": [
            "3\n",
            "5\n",
            "9\n",
            "31\n",
            "9\n"
          ]
        }
      ]
    },
    {
      "cell_type": "markdown",
      "metadata": {
        "id": "3dI8ZH00BDFx"
      },
      "source": [
        "### **break**\n",
        "\n",
        "-  특정 조건을 만족할 때 for을 빠져나오기 위해 사용"
      ]
    },
    {
      "cell_type": "code",
      "metadata": {
        "colab": {
          "base_uri": "https://localhost:8080/"
        },
        "id": "B3c6817pB327",
        "outputId": "f71a3933-54b8-43cc-e1b6-9f5fc682bec7"
      },
      "source": [
        "# a = [1, 10, 7, 29, 18]\n",
        "\n",
        "for i in a :\n",
        "  if i > 20 :\n",
        "    break\n",
        "\n",
        "print(i)"
      ],
      "execution_count": 6,
      "outputs": [
        {
          "output_type": "stream",
          "name": "stdout",
          "text": [
            "29\n"
          ]
        }
      ]
    },
    {
      "cell_type": "markdown",
      "metadata": {
        "id": "ff4MtVnKB5xQ"
      },
      "source": [
        "### **continue**\n",
        "\n",
        "-  해당 아에팀을 건너 뛰고 싶을 때 사용"
      ]
    },
    {
      "cell_type": "code",
      "metadata": {
        "colab": {
          "base_uri": "https://localhost:8080/"
        },
        "id": "Uo5-jDqECTno",
        "outputId": "97ff5225-0c2a-435c-e581-7f750a37e97b"
      },
      "source": [
        "a = [3, 9, 7, 29, 18]\n",
        "\n",
        "for i in a :\n",
        "  if i>5 and i<20 :\n",
        "    continue\n",
        "  print(i)"
      ],
      "execution_count": 3,
      "outputs": [
        {
          "output_type": "stream",
          "name": "stdout",
          "text": [
            "3\n",
            "29\n"
          ]
        }
      ]
    }
  ]
}