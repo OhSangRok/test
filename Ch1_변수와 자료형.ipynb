{
  "nbformat": 4,
  "nbformat_minor": 0,
  "metadata": {
    "colab": {
      "name": "Untitled0.ipynb",
      "provenance": [],
      "authorship_tag": "ABX9TyNw0lejy1jXTK1hUPaOh2It",
      "include_colab_link": true
    },
    "kernelspec": {
      "name": "python3",
      "display_name": "Python 3"
    },
    "language_info": {
      "name": "python"
    }
  },
  "cells": [
    {
      "cell_type": "markdown",
      "metadata": {
        "id": "view-in-github",
        "colab_type": "text"
      },
      "source": [
        "<a href=\"https://colab.research.google.com/github/OhSangRok/test/blob/main/Ch1_%EB%B3%80%EC%88%98%EC%99%80%20%EC%9E%90%EB%A3%8C%ED%98%95.ipynb\" target=\"_parent\"><img src=\"https://colab.research.google.com/assets/colab-badge.svg\" alt=\"Open In Colab\"/></a>"
      ]
    },
    {
      "cell_type": "markdown",
      "metadata": {
        "id": "56MEcr6wcLtN"
      },
      "source": [
        "### **학습목표**\n",
        "\n",
        "1.   python 언어에서 변수의 의미를 이해하기\n",
        "2.   기본 데이터 타입을 선언하기 (int, fioat, str, bool)\n",
        "\n"
      ]
    },
    {
      "cell_type": "markdown",
      "metadata": {
        "id": "g7bHFdZodGQd"
      },
      "source": [
        "### =**대입연산자**\n",
        "\n",
        "1.   대입의 경우, 오른쪽의 수식이나 ㄱ밧을 계산한 뒤, 왼쪽 변수에 값을 대입\n",
        "2.   변수는 해당 값을 가지게 된다.\n",
        "\n"
      ]
    },
    {
      "cell_type": "code",
      "metadata": {
        "id": "fW-6zdqedig2"
      },
      "source": [
        "a= 10 #int\n",
        "b= 11.4 #fioat"
      ],
      "execution_count": null,
      "outputs": []
    },
    {
      "cell_type": "code",
      "metadata": {
        "colab": {
          "base_uri": "https://localhost:8080/"
        },
        "id": "zIaLbRaxd1uO",
        "outputId": "a18c7e2a-1d17-4e72-c7fb-0f98020cb207"
      },
      "source": [
        "print(a)"
      ],
      "execution_count": null,
      "outputs": [
        {
          "output_type": "stream",
          "text": [
            "10\n"
          ],
          "name": "stdout"
        }
      ]
    },
    {
      "cell_type": "markdown",
      "metadata": {
        "id": "bhKMjsOjeuI_"
      },
      "source": [
        "### **주석**(Comment)\n",
        "*   코드에서 #으로 시작하는 뒷부분은 실행안함\n",
        "*   python이 실행할 때 #만나면 무시\n",
        "*   개발자(사람)이 보기 위한 용도로 사용\n"
      ]
    },
    {
      "cell_type": "code",
      "metadata": {
        "id": "SXnIUZRGfM0z"
      },
      "source": [
        "#this line is important\n",
        "#so don't delete those lines\n",
        "\n",
        "math = 100\n",
        "english = 68"
      ],
      "execution_count": null,
      "outputs": []
    },
    {
      "cell_type": "markdown",
      "metadata": {
        "id": "8nAaVQvqgNv2"
      },
      "source": [
        "### **print 함수**\n",
        "\n",
        "\n",
        "*   함수란 특정 기능을 반복적으로 호출하여 사용가능한 코드 블럭\n",
        "*   해당 변수 값이 출력\n",
        "*   .로 여러 변수를 나열하면 한줄에 출력\n",
        "*   기본적으로 한칸 뛰어쓰기 후 출력\n",
        "\n",
        "\n",
        "\n"
      ]
    },
    {
      "cell_type": "code",
      "metadata": {
        "colab": {
          "base_uri": "https://localhost:8080/"
        },
        "id": "z_Y36O9UgoTI",
        "outputId": "73cae1dc-4f3a-4003-cea6-a04d0545324a"
      },
      "source": [
        "print (a, b)"
      ],
      "execution_count": null,
      "outputs": [
        {
          "output_type": "stream",
          "text": [
            "10 11.4\n"
          ],
          "name": "stdout"
        }
      ]
    },
    {
      "cell_type": "code",
      "metadata": {
        "colab": {
          "base_uri": "https://localhost:8080/"
        },
        "id": "m-LqTQUzg_Oa",
        "outputId": "618b0b1f-9cd7-448b-efa2-4e9d60a4e990"
      },
      "source": [
        "print(math, english, 77, '헤응')"
      ],
      "execution_count": null,
      "outputs": [
        {
          "output_type": "stream",
          "text": [
            "100 68 77 헤응\n"
          ],
          "name": "stdout"
        }
      ]
    },
    {
      "cell_type": "code",
      "metadata": {
        "colab": {
          "base_uri": "https://localhost:8080/"
        },
        "id": "oylccYchiu1_",
        "outputId": "1039c213-8dc9-478a-a585-3a1076e3e823"
      },
      "source": [
        "math\n",
        "english"
      ],
      "execution_count": null,
      "outputs": [
        {
          "output_type": "execute_result",
          "data": {
            "text/plain": [
              "68"
            ]
          },
          "metadata": {},
          "execution_count": 22
        }
      ]
    },
    {
      "cell_type": "markdown",
      "metadata": {
        "id": "tUhsSsi2hveo"
      },
      "source": [
        "### **변수 값 확인 방법**\n",
        "\n",
        "1.   print() 함수 사용\n",
        "2.   변수 값을 코드의 마지막에 위치 시킨 후 실행. \n",
        "     - 이 경우 outpru으로 변수의 값을 출력된다.\n",
        "\n"
      ]
    },
    {
      "cell_type": "markdown",
      "metadata": {
        "id": "iT_hI-mAhuCA"
      },
      "source": [
        "### **변수 이름 규칙**\n",
        "\n",
        "*   숫자로 시작하는 이름을 제외하고 영문 대소문자, 숫자로 구성 가능\n",
        " -  숫자는 시작이 안된다!\n",
        "*   일반적으로 변수를 표현할 때 정확하고\n",
        "     간결한 이름을 사용하여 쉽게 이해하도록 \n",
        "     설정한다.\n",
        " -  예) a= 900 경우보다, hy_student_nem = 900 으로 명시하는 것이 이해가 빠르다.\n"
      ]
    },
    {
      "cell_type": "code",
      "metadata": {
        "id": "6fwFwIhZkTer"
      },
      "source": [
        "ab48= 100\n",
        "#4_num = 10 숫자로 시작하여 실행안됨\n",
        "AB48= 200\n",
        "_right = 800"
      ],
      "execution_count": null,
      "outputs": []
    },
    {
      "cell_type": "markdown",
      "metadata": {
        "id": "xefgkDe_lNuE"
      },
      "source": [
        "### **예약어(키워드)**\n",
        "*   python에서 미리 선정하여 사용중인 키워드\n",
        "*   변수, 함수, 클래스 등 사용자 정의 이름으로 사용할 수 없음"
      ]
    },
    {
      "cell_type": "code",
      "metadata": {
        "colab": {
          "base_uri": "https://localhost:8080/"
        },
        "id": "PAJ5Jg_klijU",
        "outputId": "022bcc29-b0aa-4ff4-e6ae-b34c20440dd1"
      },
      "source": [
        "#for = 10 for은 예약어로 변수 사용 불가\n",
        "_for = 100\n",
        "_for"
      ],
      "execution_count": null,
      "outputs": [
        {
          "output_type": "execute_result",
          "data": {
            "text/plain": [
              "100"
            ]
          },
          "metadata": {},
          "execution_count": 26
        }
      ]
    },
    {
      "cell_type": "markdown",
      "metadata": {
        "id": "os2SgDZYn0Y2"
      },
      "source": [
        "### **기본 데이터 타입**\n",
        "\n",
        "*   정수(int)\n",
        "*   실수(float)\n",
        "*   문자열(str)\n",
        "*   불리안(boolean)\n",
        "\n"
      ]
    },
    {
      "cell_type": "code",
      "metadata": {
        "colab": {
          "base_uri": "https://localhost:8080/"
        },
        "id": "GZY_KkCuoLft",
        "outputId": "a02919f6-80d6-4ae2-e3f4-a313d0ef5269"
      },
      "source": [
        "a = 10 #정수형(int)\n",
        "b = 15.6 #실수형(float)\n",
        "c= \"2학기 회장\" # 문자형(str)\n",
        "d= a > b #불리안(boollean)\n",
        "\n",
        "print(a, b, c, d)"
      ],
      "execution_count": 1,
      "outputs": [
        {
          "output_type": "stream",
          "text": [
            "10 15.6 2학기 회장 False\n"
          ],
          "name": "stdout"
        }
      ]
    },
    {
      "cell_type": "markdown",
      "metadata": {
        "id": "DfwW3t5Uo5p1"
      },
      "source": [
        "### **type() 함수**\n",
        "\n",
        "해당 변수, 값의 타입(type)을 알고자 할 때 사용하는 함수"
      ]
    },
    {
      "cell_type": "code",
      "metadata": {
        "colab": {
          "base_uri": "https://localhost:8080/"
        },
        "id": "UC2mlXgBpJm_",
        "outputId": "d1c95c67-8561-4ebe-9cb1-b0a511f1d139"
      },
      "source": [
        "print(type(a), type(b), type(c), type(d))"
      ],
      "execution_count": 2,
      "outputs": [
        {
          "output_type": "stream",
          "text": [
            "<class 'int'> <class 'float'> <class 'str'> <class 'bool'>\n"
          ],
          "name": "stdout"
        }
      ]
    },
    {
      "cell_type": "markdown",
      "metadata": {
        "id": "zmr5r_vypg7d"
      },
      "source": [
        "### **타입 None**\n",
        "\n",
        "*   아무런 값을 갑지 않을 때 사용\n",
        "*   일반적으로 변수가 초기값을 갖지 않게 하여 해당 변수를 생성할 때 사용\n",
        "*   다른 언어에서는 NULL과 같은 의미로 사용"
      ]
    },
    {
      "cell_type": "code",
      "metadata": {
        "colab": {
          "base_uri": "https://localhost:8080/"
        },
        "id": "jvwCAPCIqS0u",
        "outputId": "eea47bcd-93f2-49ea-cac9-29a7b2fbf432"
      },
      "source": [
        "n = None\n",
        "print(n)"
      ],
      "execution_count": 4,
      "outputs": [
        {
          "output_type": "stream",
          "text": [
            "None\n"
          ],
          "name": "stdout"
        }
      ]
    },
    {
      "cell_type": "markdown",
      "metadata": {
        "id": "yVjce6aNu5o1"
      },
      "source": [
        "### **비교 연산자**\n",
        "\n",
        "*   프로그래밍에서는 '='이게 아니라, == 를 사용\n",
        "    *   예) 2학기 회장 == 상록 #참\n",
        "*   작다, 크다(>.<)\n",
        "*   작거나 같다, 크거나 같다(>=,<=)\n",
        "*   같다(==)\n",
        "*   같지 않다(!=)\n",
        "    *  예) 2학기 회장 != 지설 #거짓\n",
        "*   결론적으로 비교 연산자, 결과는 bool타입으로 출력"
      ]
    },
    {
      "cell_type": "code",
      "metadata": {
        "colab": {
          "base_uri": "https://localhost:8080/"
        },
        "id": "jiPzlWzYvsUU",
        "outputId": "37dc9e25-d688-4232-84a4-97d0b0294f44"
      },
      "source": [
        "ss= 76100\n",
        "nv= 436000\n",
        "\n",
        "print(ss>nv)\n",
        "print(ss<nv)\n",
        "\n",
        "print(ss>=nv)\n",
        "print(ss<=nv)\n",
        "\n",
        "print(ss==nv)\n",
        "print(ss!=nv)"
      ],
      "execution_count": 10,
      "outputs": [
        {
          "output_type": "stream",
          "text": [
            "False\n",
            "True\n",
            "False\n",
            "True\n",
            "False\n",
            "True\n"
          ],
          "name": "stdout"
        }
      ]
    },
    {
      "cell_type": "markdown",
      "metadata": {
        "id": "vpXEjFM4x3FE"
      },
      "source": [
        "### **기본 연산자**"
      ]
    },
    {
      "cell_type": "code",
      "metadata": {
        "colab": {
          "base_uri": "https://localhost:8080/"
        },
        "id": "IURolL3mx7Q3",
        "outputId": "782e0842-bcce-41f9-96df-3b8efc01da4e"
      },
      "source": [
        "print(ss + nv)\n",
        "print(ss - nv)\n",
        "print(ss * nv)\n",
        "print(ss / nv)\n",
        "print(nv % ss)\n",
        "\n",
        "a = 3\n",
        "b = 2\n",
        "\n",
        "print(a**b)"
      ],
      "execution_count": 13,
      "outputs": [
        {
          "output_type": "stream",
          "text": [
            "512100\n",
            "-359900\n",
            "33179600000\n",
            "0.17454128440366973\n",
            "55500\n",
            "9\n"
          ],
          "name": "stdout"
        }
      ]
    },
    {
      "cell_type": "markdown",
      "metadata": {
        "id": "Q0w-CAIozKK8"
      },
      "source": [
        "### **연산자 우선순위**\n",
        "\n",
        "*   기본적으로 수학의 연산자와 동일 \n",
        "*   먼저 연산을 위해서 괄호()을 사용"
      ]
    },
    {
      "cell_type": "code",
      "metadata": {
        "colab": {
          "base_uri": "https://localhost:8080/"
        },
        "id": "NhImS42_zS80",
        "outputId": "9b6d0b5c-c54f-4f6e-d20a-f6b8b2207bf7"
      },
      "source": [
        "a= 5\n",
        "b= 4\n",
        "print(a+b*50)\n",
        "print((a+b)*50)"
      ],
      "execution_count": 15,
      "outputs": [
        {
          "output_type": "stream",
          "text": [
            "205\n",
            "450\n"
          ],
          "name": "stdout"
        }
      ]
    }
  ]
}