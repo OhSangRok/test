{
  "nbformat": 4,
  "nbformat_minor": 0,
  "metadata": {
    "colab": {
      "name": "Untitled2.ipynb",
      "provenance": [],
      "authorship_tag": "ABX9TyMP23ex9m44tS9o6sH+/nqu",
      "include_colab_link": true
    },
    "kernelspec": {
      "name": "python3",
      "display_name": "Python 3"
    },
    "language_info": {
      "name": "python"
    }
  },
  "cells": [
    {
      "cell_type": "markdown",
      "metadata": {
        "id": "view-in-github",
        "colab_type": "text"
      },
      "source": [
        "<a href=\"https://colab.research.google.com/github/OhSangRok/test/blob/main/Ch2.%EB%AC%B8%EC%9E%90%EC%97%B4.ipynb\" target=\"_parent\"><img src=\"https://colab.research.google.com/assets/colab-badge.svg\" alt=\"Open In Colab\"/></a>"
      ]
    },
    {
      "cell_type": "markdown",
      "metadata": {
        "id": "ZrsSRAUE9R4t"
      },
      "source": [
        "### **학습목표**\n",
        "\n",
        "1. 문자열(str) 타입 이해하기"
      ]
    },
    {
      "cell_type": "markdown",
      "metadata": {
        "id": "DhBn4oGp9sxL"
      },
      "source": [
        "### **문자열(str)**\n",
        "\n",
        "*   여러 개의 문자를 순서대로 나열한 것\n",
        "*   문자열은 '(작은따옴표)' 혹은 \"(큰따옴표)\" 사이에 문자를 넣어서 생성\n",
        "    *  \".\"\"(여러번 쓸경우): 여러 줄에 걸쳐 문자열이 표현 가능\n",
        "*   문자열 자체에 '.'있을 경우에는 그 반대의 기호 생성"
      ]
    },
    {
      "cell_type": "code",
      "metadata": {
        "colab": {
          "base_uri": "https://localhost:8080/"
        },
        "id": "--jMTR7m-JOE",
        "outputId": "1443394d-e465-4c26-8312-8d2a266148ea"
      },
      "source": [
        "a= \"Hello World!\"\n",
        "b= 'Hello World!'\n",
        "\n",
        "c='''Hello World\n",
        "\n",
        "It is hayoung'''\n",
        "\n",
        "d= '''Hello World!\n",
        "It is hayoung'''\n",
        "\n",
        "\n",
        "print(a)\n",
        "print(b)\n",
        "print(c)\n",
        "print(d)"
      ],
      "execution_count": 2,
      "outputs": [
        {
          "output_type": "stream",
          "text": [
            "Hello World!\n",
            "Hello World!\n"
          ],
          "name": "stdout"
        }
      ]
    },
    {
      "cell_type": "markdown",
      "metadata": {
        "id": "LwBWAM2XBQb8"
      },
      "source": [
        "### **이스케이프(escape)문자**\n",
        "\n",
        "*   탈출 효과를 주기 위해 문자열 내부를 넣는다 \n",
        "*   \\n: 엔터(다음줄)\n",
        "*   \\t: tab"
      ]
    },
    {
      "cell_type": "code",
      "metadata": {
        "colab": {
          "base_uri": "https://localhost:8080/"
        },
        "id": "RQ6GfbL4B4xp",
        "outputId": "690756b0-9842-405f-86e7-2d32f11d8d97"
      },
      "source": [
        "print(\"hello\\nworld\")\n",
        "print(\"이렇게 엔터를\\n치면 됩니다\")\n",
        "print(\"2학기 회장\\t 오상록\")\n",
        "print(\"1학기 회장\\t 전지설\")"
      ],
      "execution_count": 7,
      "outputs": [
        {
          "output_type": "stream",
          "text": [
            "hello\n",
            "world\n",
            "이렇게 엔터를\n",
            "치면 됩니다\n",
            "2학기 회장\t 오상록\n",
            "1학기 회장\t 전지설\n"
          ],
          "name": "stdout"
        }
      ]
    }
  ]
}