{
  "nbformat": 4,
  "nbformat_minor": 0,
  "metadata": {
    "colab": {
      "name": "211020.ipynb",
      "provenance": [],
      "authorship_tag": "ABX9TyP7iKG4r2wroIA3iST0jSnj",
      "include_colab_link": true
    },
    "kernelspec": {
      "name": "python3",
      "display_name": "Python 3"
    },
    "language_info": {
      "name": "python"
    }
  },
  "cells": [
    {
      "cell_type": "markdown",
      "metadata": {
        "id": "view-in-github",
        "colab_type": "text"
      },
      "source": [
        "<a href=\"https://colab.research.google.com/github/OhSangRok/test/blob/main/211020.ipynb\" target=\"_parent\"><img src=\"https://colab.research.google.com/assets/colab-badge.svg\" alt=\"Open In Colab\"/></a>"
      ]
    },
    {
      "cell_type": "markdown",
      "metadata": {
        "id": "Y6VvG5O78r5b"
      },
      "source": [
        "### **학습목표**\n",
        "1. 함수의 이해\n",
        "2. 함수 구현 및 사용 숙지\n",
        "- 표준함수(내장함수)\n",
        "- 사용자 정의 함수"
      ]
    },
    {
      "cell_type": "markdown",
      "metadata": {
        "id": "aa9C_2UL9Nn6"
      },
      "source": [
        "### **함수?**\n",
        "- 예를들어, range같은 함수가 있다.\n",
        "- range() #괄호안에 입력값을 주어서 수를 생성\n",
        "- range(3,9) -> [3,4,5,6,7,8]\n",
        "- 이미 구현된 함수: 내장함수(built-in function)"
      ]
    },
    {
      "cell_type": "markdown",
      "metadata": {
        "id": "QWz5m9kkLPEg"
      },
      "source": [
        "### **수학 관련 내장함수**\n",
        "1. abs()\n",
        "2. 진수 변환\n",
        "- bin(): 10진수를 2진수\n",
        "- oct(): 10진수를 8진수로\n",
        "- hex(): 10진수를 16진수로\n",
        "3. 연산\n",
        "- max(): 최대값\n",
        "- min(): 최솟값\n",
        "- sum(): 합계\n",
        "- pom(): 거듭제곱\n",
        "4. round(): 반올림"
      ]
    },
    {
      "cell_type": "code",
      "metadata": {
        "colab": {
          "base_uri": "https://localhost:8080/"
        },
        "id": "EefKeOOFLVmn",
        "outputId": "49c626d3-0f28-49b0-d902-15f0f0dca8e5"
      },
      "source": [
        "print(-10, \"의 절댓값: \", abs(-10))\n",
        "print(128,\"의 2진수: \", bin(128))\n",
        "print(17,\"의 8진수: \", oct(17))\n",
        "print(54274,\"의 16진수: \", hex(54274))"
      ],
      "execution_count": null,
      "outputs": [
        {
          "output_type": "stream",
          "name": "stdout",
          "text": [
            "-10 의 절댓값:  10\n",
            "128 의 2진수:  0b10000000\n",
            "17 의 8진수:  0o21\n",
            "54274 의 16진수:  0xd402\n"
          ]
        }
      ]
    },
    {
      "cell_type": "code",
      "metadata": {
        "colab": {
          "base_uri": "https://localhost:8080/",
          "height": 136
        },
        "id": "vC0g30f5Nb--",
        "outputId": "330625a9-ce19-4ef6-de51-97251861c129"
      },
      "source": [
        "numbers = [3,5,6,2,3]\n",
        "alpha = ['a,A,c,o,p']\n",
        "print(\"max:\", max(numbers))\n",
        "print(\"min:\", min(numbers))\n",
        "print(\"max:\", max(alpha))\n",
        "print(\"min:\", min(alpha)\n",
        "print(\"sum:\", sum(numbers))\n",
        "#print(\"sum\", sum(alpha))\n",
        "print(\"pow(3의 4승)\", pow(3,4))\n",
        "print(\"3.141592의 소수점 2의 자리 반올림:\", round(3.142592))"
      ],
      "execution_count": null,
      "outputs": [
        {
          "output_type": "error",
          "ename": "SyntaxError",
          "evalue": "ignored",
          "traceback": [
            "\u001b[0;36m  File \u001b[0;32m\"<ipython-input-10-693d385ad1c7>\"\u001b[0;36m, line \u001b[0;32m7\u001b[0m\n\u001b[0;31m    print(\"sum:\", sum(numbers))\u001b[0m\n\u001b[0m        ^\u001b[0m\n\u001b[0;31mSyntaxError\u001b[0m\u001b[0;31m:\u001b[0m invalid syntax\n"
          ]
        }
      ]
    },
    {
      "cell_type": "markdown",
      "metadata": {
        "id": "BywQMwm8WTlN"
      },
      "source": [
        "### **문자열 관련 내장함수**\n",
        "- input(): ()안에 매개변수 값을 출력한 후에 입력을 받는 함수\n",
        "- format(): 일부 내용을 치환하ㅕㅇ 의도한 형식의 문자열을 출력하는 함수"
      ]
    },
    {
      "cell_type": "code",
      "metadata": {
        "colab": {
          "base_uri": "https://localhost:8080/"
        },
        "id": "Ct2avE2LWkdF",
        "outputId": "791d95a3-11bf-47d0-df22-d5c0726da843"
      },
      "source": [
        "id = input(\"아이디를 입려갛세요:\")\n",
        "password = input(\"비밀번호를 익력하세요:\")\n",
        "\n",
        "print(\"id 님! 가입을 환영합니다!\". format(id))"
      ],
      "execution_count": null,
      "outputs": [
        {
          "output_type": "stream",
          "name": "stdout",
          "text": [
            "아이디를 입려갛세요:id\n",
            "비밀번호를 익력하세요:1234\n",
            "id 님! 가입을 환영합니다!\n"
          ]
        }
      ]
    },
    {
      "cell_type": "code",
      "metadata": {
        "colab": {
          "base_uri": "https://localhost:8080/"
        },
        "id": "uylkbVMMu2DR",
        "outputId": "63b83488-1d23-4d88-e61e-1b7f9941edc0"
      },
      "source": [
        "# 주사위 굴리는 프로그램 만들기\n",
        "\n",
        "import random\n",
        "\n",
        "#n = random.randint(1,6) #1에서 6까지의 함수 중에서 하나를 뽑는다\n",
        "#print(n)\n",
        "\n",
        "def game():\n",
        "  n = random.randint(0,2)\n",
        "  if n == 0:\n",
        "    print(\">컴퓨터: 가위\")\n",
        "  elif n == 1:\n",
        "    print(\">컴퓨터: 바위\")\n",
        "  else:\n",
        "    print(\">컴퓨터: 보\")\n",
        "  return n\n",
        "\n",
        "# 가위바위보 게임\n",
        "user = int(input(\"(가위, 바위, 보)중 하나를 입력하세요: \"))\n",
        "com = game()\n",
        "#com2 = game()\n",
        "#com3 = game()\n",
        "\n",
        "if com == user:\n",
        "  print(\"DRAW!\")\n",
        "elif com == 0 and user ==1:\n",
        "  print(\"WIN!\")\n",
        "elif com == 1 and user ==2:\n",
        "  print(\"WIN!\")\n",
        "elif com == 2 and user ==0:\n",
        "  print(\"WIN!\")\n",
        "else:\n",
        "  print(\"LOSE!\")"
      ],
      "execution_count": 36,
      "outputs": [
        {
          "output_type": "stream",
          "name": "stdout",
          "text": [
            "(가위, 바위, 보)중 하나를 입력하세요: 1\n",
            ">컴퓨터: 바위\n",
            "DRAW!\n"
          ]
        }
      ]
    }
  ]
}