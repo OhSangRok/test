{
  "nbformat": 4,
  "nbformat_minor": 0,
  "metadata": {
    "colab": {
      "name": "Untitled0.ipynb",
      "provenance": [],
      "authorship_tag": "ABX9TyOkJRzZVO/HSLBQSymxye6j",
      "include_colab_link": true
    },
    "kernelspec": {
      "name": "python3",
      "display_name": "Python 3"
    },
    "language_info": {
      "name": "python"
    }
  },
  "cells": [
    {
      "cell_type": "markdown",
      "metadata": {
        "id": "view-in-github",
        "colab_type": "text"
      },
      "source": [
        "<a href=\"https://colab.research.google.com/github/OhSangRok/test/blob/main/2021.08.23.ipynb\" target=\"_parent\"><img src=\"https://colab.research.google.com/assets/colab-badge.svg\" alt=\"Open In Colab\"/></a>"
      ]
    },
    {
      "cell_type": "markdown",
      "metadata": {
        "id": "56MEcr6wcLtN"
      },
      "source": [
        "### **학습목표**\n",
        "\n",
        "1.   python 언어에서 변수의 의미를 이해하기\n",
        "2.   기본 데이터 타입을 선언하기 (int, fioat, str, bool)\n",
        "\n"
      ]
    },
    {
      "cell_type": "markdown",
      "metadata": {
        "id": "g7bHFdZodGQd"
      },
      "source": [
        "### =**대입연산자**\n",
        "\n",
        "1.   대입의 경우, 오른쪽의 수식이나 ㄱ밧을 계산한 뒤, 왼쪽 변수에 값을 대입\n",
        "2.   변수는 해당 값을 가지게 된다.\n",
        "\n"
      ]
    },
    {
      "cell_type": "code",
      "metadata": {
        "id": "fW-6zdqedig2"
      },
      "source": [
        "a= 10 #int\n",
        "b= 11.4 #fioat"
      ],
      "execution_count": 13,
      "outputs": []
    },
    {
      "cell_type": "code",
      "metadata": {
        "colab": {
          "base_uri": "https://localhost:8080/"
        },
        "id": "zIaLbRaxd1uO",
        "outputId": "a18c7e2a-1d17-4e72-c7fb-0f98020cb207"
      },
      "source": [
        "print(a)"
      ],
      "execution_count": 14,
      "outputs": [
        {
          "output_type": "stream",
          "text": [
            "10\n"
          ],
          "name": "stdout"
        }
      ]
    },
    {
      "cell_type": "markdown",
      "metadata": {
        "id": "bhKMjsOjeuI_"
      },
      "source": [
        "### **주석**(Comment)\n",
        "*   코드에서 #으로 시작하는 뒷부분은 실행안함\n",
        "*   python이 실행할 때 #만나면 무시\n",
        "*   개발자(사람)이 보기 위한 용도로 사용\n"
      ]
    },
    {
      "cell_type": "code",
      "metadata": {
        "id": "SXnIUZRGfM0z"
      },
      "source": [
        "#this line is important\n",
        "#so don't delete those lines\n",
        "\n",
        "math = 100\n",
        "english = 68"
      ],
      "execution_count": 15,
      "outputs": []
    },
    {
      "cell_type": "markdown",
      "metadata": {
        "id": "8nAaVQvqgNv2"
      },
      "source": [
        "### **print 함수**\n",
        "\n",
        "\n",
        "*   함수란 특정 기능을 반복적으로 호출하여 사용가능한 코드 블럭\n",
        "*   해당 변수 값이 출력\n",
        "*   .로 여러 변수를 나열하면 한줄에 출력\n",
        "*   기본적으로 한칸 뛰어쓰기 후 출력\n",
        "\n",
        "\n",
        "\n"
      ]
    },
    {
      "cell_type": "code",
      "metadata": {
        "colab": {
          "base_uri": "https://localhost:8080/"
        },
        "id": "z_Y36O9UgoTI",
        "outputId": "73cae1dc-4f3a-4003-cea6-a04d0545324a"
      },
      "source": [
        "print (a, b)"
      ],
      "execution_count": 17,
      "outputs": [
        {
          "output_type": "stream",
          "text": [
            "10 11.4\n"
          ],
          "name": "stdout"
        }
      ]
    },
    {
      "cell_type": "code",
      "metadata": {
        "colab": {
          "base_uri": "https://localhost:8080/"
        },
        "id": "m-LqTQUzg_Oa",
        "outputId": "618b0b1f-9cd7-448b-efa2-4e9d60a4e990"
      },
      "source": [
        "print(math, english, 77, '헤응')"
      ],
      "execution_count": 20,
      "outputs": [
        {
          "output_type": "stream",
          "text": [
            "100 68 77 헤응\n"
          ],
          "name": "stdout"
        }
      ]
    },
    {
      "cell_type": "code",
      "metadata": {
        "colab": {
          "base_uri": "https://localhost:8080/"
        },
        "id": "oylccYchiu1_",
        "outputId": "1039c213-8dc9-478a-a585-3a1076e3e823"
      },
      "source": [
        "math\n",
        "english"
      ],
      "execution_count": 22,
      "outputs": [
        {
          "output_type": "execute_result",
          "data": {
            "text/plain": [
              "68"
            ]
          },
          "metadata": {},
          "execution_count": 22
        }
      ]
    },
    {
      "cell_type": "markdown",
      "metadata": {
        "id": "tUhsSsi2hveo"
      },
      "source": [
        "### **변수 값 확인 방법**\n",
        "\n",
        "1.   print() 함수 사용\n",
        "2.   변수 값을 코드의 마지막에 위치 시킨 후 실행. \n",
        "     - 이 경우 outpru으로 변수의 값을 출력된다.\n",
        "\n"
      ]
    },
    {
      "cell_type": "markdown",
      "metadata": {
        "id": "iT_hI-mAhuCA"
      },
      "source": [
        "### **변수 이름 규칙**\n",
        "\n",
        "*   숫자로 시작하는 이름을 제외하고 영문 대소문자, 숫자로 구성 가능\n",
        " -  숫자는 시작이 안된다!\n",
        "*   일반적으로 변수를 표현할 때 정확하고\n",
        "     간결한 이름을 사용하여 쉽게 이해하도록 \n",
        "     설정한다.\n",
        " -  예) a= 900 경우보다, hy_student_nem = 900 으로 명시하는 것이 이해가 빠르다.\n"
      ]
    },
    {
      "cell_type": "code",
      "metadata": {
        "id": "6fwFwIhZkTer"
      },
      "source": [
        "ab48= 100\n",
        "#4_num = 10 숫자로 시작하여 실행안됨\n",
        "AB48= 200\n",
        "_right = 800"
      ],
      "execution_count": 25,
      "outputs": []
    },
    {
      "cell_type": "markdown",
      "metadata": {
        "id": "xefgkDe_lNuE"
      },
      "source": [
        "### **예약어(키워드)**\n",
        "*   python에서 미리 선정하여 사용중인 키워드\n",
        "*   변수, 함수, 클래스 등 사용자 정의 이름으로 사용할 수 없음"
      ]
    },
    {
      "cell_type": "code",
      "metadata": {
        "colab": {
          "base_uri": "https://localhost:8080/"
        },
        "id": "PAJ5Jg_klijU",
        "outputId": "022bcc29-b0aa-4ff4-e6ae-b34c20440dd1"
      },
      "source": [
        "#for = 10 for은 예약어로 변수 사용 불가\n",
        "_for = 100\n",
        "_for"
      ],
      "execution_count": 26,
      "outputs": [
        {
          "output_type": "execute_result",
          "data": {
            "text/plain": [
              "100"
            ]
          },
          "metadata": {},
          "execution_count": 26
        }
      ]
    }
  ]
}